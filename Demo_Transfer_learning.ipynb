{
 "cells": [
  {
   "cell_type": "markdown",
   "metadata": {},
   "source": [
    "# RNN-based SMILES generator for novel molecular design"
   ]
  },
  {
   "cell_type": "markdown",
   "metadata": {},
   "source": [
    "In this demo, we will construct a recurrent neural network (RNN)-based generator for the novel molecular design of caspase-6 inhibitor. In our work, RNN were first trained to generate a chemical language model on the RDKit canonical SMILES dataset containing 2.4 million molecules from the PubChem database (https://pubchem.ncbi.nlm.nih.gov), where the molecules were restrained to containing between 10 and 100 heavy atoms and the max length was 140. Then, a dataset with 433 active caspase-6 inhibitors was used to fine-tune the pre-trained RNN model. Since GITHUB has a single file limit of 100MB, this demo provides a SMILES dataset with 800 thousand molecules for pre-training RNN generator."
   ]
  },
  {
   "cell_type": "markdown",
   "metadata": {},
   "source": [
    "## Import modules"
   ]
  },
  {
   "cell_type": "code",
   "execution_count": null,
   "metadata": {},
   "outputs": [],
   "source": [
    "import sys"
   ]
  },
  {
   "cell_type": "code",
   "execution_count": null,
   "metadata": {},
   "outputs": [],
   "source": [
    "sys.path.append('./release/') "
   ]
  },
  {
   "cell_type": "code",
   "execution_count": null,
   "metadata": {},
   "outputs": [],
   "source": [
    "from model_construct_test import RNN\n",
    "import numpy as np\n",
    "import pandas as pd\n",
    "import matplotlib.pyplot as plt\n",
    "%matplotlib inline\n",
    "import seaborn as sns\n",
    "sns.set(style=\"darkgrid\") # style: darkgrid, whitegrid, dark, white, ticks"
   ]
  },
  {
   "cell_type": "markdown",
   "metadata": {},
   "source": [
    "# Pre-training RNN generator "
   ]
  },
  {
   "cell_type": "markdown",
   "metadata": {},
   "source": [
    "In this demo, RNN were first trained to generate a chemical language model on the RDKit canonical SMILES dataset with 800 thousand molecules from the PubChem database (https://pubchem.ncbi.nlm.nih.gov). Herein, the last RNN model and the RNN model with max_valid were saved for later transfer learning process."
   ]
  },
  {
   "cell_type": "markdown",
   "metadata": {},
   "source": [
    "##  Parameters settings"
   ]
  },
  {
   "cell_type": "markdown",
   "metadata": {},
   "source": [
    "The pre-tained generator constructed by RNN based on three-layers GRU, the initial batch size was set as 128. Before training, the pathes of input smile file (mol_path) and Vocabulary file (voc_path) need to be addressed. User can define the learning rate (lr), weigth of decay (weigh_decay), episode number (epoch_num), how many step output and renew lr (step_num)."
   ]
  },
  {
   "cell_type": "code",
   "execution_count": null,
   "metadata": {},
   "outputs": [],
   "source": [
    "voc_path = \"./data/Voc\"\n",
    "mol_path = \"./data/800_thousand_filtered.smi\"\n",
    "restore_path = None\n",
    "\n",
    "# models save path\n",
    "\n",
    "#max_save_path = \"model/max_prior_RNN.ckpt\"             # Save RNN model with max valid\n",
    "last_save_path = \"model/last_prior_RNN.ckpt\"           # Save last RNN model\n",
    "\n",
    "# parameters\n",
    "\n",
    "epoch_num = 2\n",
    "step_num = 30\n",
    "decay_step_num = 300\n",
    "smile_num = 5\n",
    "lr = 0.001\n",
    "weigth_decay = 0.05\n",
    "\n",
    "total_loss, total_valid = RNN.fit(voc_path=voc_path, mol_path=mol_path, restore_path=restore_path, \n",
    "                                  max_save_path=max_save_path, last_save_path=last_save_path,\n",
    "                                  epoch_num=epoch_num, step_num=step_num, \n",
    "                                  decay_step_num=decay_step_num, smile_num=smile_num, \n",
    "                                  lr=lr, weigth_decay=weigth_decay)\n"
   ]
  },
  {
   "cell_type": "markdown",
   "metadata": {},
   "source": [
    "## Check pre-train RNN model"
   ]
  },
  {
   "cell_type": "markdown",
   "metadata": {},
   "source": [
    "Check whether the Total_loss and Total_valid converge."
   ]
  },
  {
   "cell_type": "code",
   "execution_count": null,
   "metadata": {},
   "outputs": [],
   "source": [
    "plt.figure(figsize=(12,10))\n",
    "\n",
    "plt.subplot(2,2,1)\n",
    "plt.plot(total_loss)\n",
    "plt.title(\"Total losses\", fontsize=15)\n",
    "\n",
    "plt.subplot(2,2,2)\n",
    "plt.plot(total_valid)\n",
    "plt.title(\"Total valid\", fontsize=15)  \n",
    "\n",
    "plt.show() "
   ]
  },
  {
   "cell_type": "markdown",
   "metadata": {},
   "source": [
    "# Fine-tune the last pre-trained model by transfer learning"
   ]
  },
  {
   "cell_type": "markdown",
   "metadata": {},
   "source": [
    "Based on the last pre-trained model, RNN was trained to generate novel molecules on a dataset with 433 active caspase-6 inhibitors. Herein, the last RNN model and the RNN model with max_valid were saved for later SMILES generating."
   ]
  },
  {
   "cell_type": "markdown",
   "metadata": {},
   "source": [
    "##  Parameters setting "
   ]
  },
  {
   "cell_type": "markdown",
   "metadata": {},
   "source": [
    "The pre-tained generator constructed by RNN based on three-layers GRU, the initial batch size was set as 128. Before training, the pathes of input smile file (mol_path) and Vocabulary file (voc_path) need to be addressed. User can define the learning rate (lr), weigth of decay (weigh_decay), episode number (epoch_num), how many step output and renew lr (step_num)."
   ]
  },
  {
   "cell_type": "code",
   "execution_count": null,
   "metadata": {
    "scrolled": true
   },
   "outputs": [],
   "source": [
    "voc_path = \"./data/Voc\"\n",
    "mol_path = \"./data/433_casp6_inhibitor_filtered.smi\"\n",
    "restore_path = \"./model/last_prior_RNN.ckpt\" \n",
    "\n",
    "# models save path\n",
    "\n",
    "#max_save_path = \"model/max_agent_RNN.ckpt\"\n",
    "last_save_path = \"model/last_agent_RNN.ckpt\"\n",
    "\n",
    "# parameters\n",
    "\n",
    "epoch_num = 200\n",
    "step_num = 1\n",
    "decay_step_num = 10\n",
    "smile_num = 5\n",
    "lr = 0.001\n",
    "weigth_decay = 0.03\n",
    "\n",
    "\n",
    "total_loss, total_valid = RNN.fit(voc_path=voc_path, mol_path=mol_path, restore_path=restore_path, \n",
    "                                  max_save_path=max_save_path, last_save_path=last_save_path,\n",
    "                                  epoch_num=epoch_num, step_num=step_num, \n",
    "                                  decay_step_num=decay_step_num, smile_num=smile_num, \n",
    "                                  lr=lr, weigth_decay=weigth_decay)"
   ]
  },
  {
   "cell_type": "markdown",
   "metadata": {},
   "source": [
    "## Check fine-train RNN model"
   ]
  },
  {
   "cell_type": "markdown",
   "metadata": {},
   "source": [
    "Check whether the Total_loss and Total_valid converge."
   ]
  },
  {
   "cell_type": "code",
   "execution_count": null,
   "metadata": {},
   "outputs": [],
   "source": [
    "plt.figure(figsize=(12,10))\n",
    "\n",
    "plt.subplot(2,2,1)\n",
    "plt.plot(total_loss)\n",
    "plt.title(\"Total losses\", fontsize=15)\n",
    "\n",
    "plt.subplot(2,2,2)\n",
    "plt.plot(total_valid)\n",
    "plt.title(\"Total valid\", fontsize=15)  \n",
    "\n",
    "plt.show() "
   ]
  },
  {
   "cell_type": "markdown",
   "metadata": {},
   "source": [
    "## Generating mols"
   ]
  },
  {
   "cell_type": "code",
   "execution_count": null,
   "metadata": {},
   "outputs": [],
   "source": [
    "from gen_smi_test import Generator\n",
    "\n",
    "# define generator path\n",
    "\n",
    "restore_path = \"model/last_agent_RNN.ckpt\"          \n",
    "voc_path = \"./data/Voc\"\n",
    "\n",
    "# define detail\n",
    "\n",
    "csv_num = 1\n",
    "gen_num = 1000\n",
    "mol_num = 10\n",
    "\n",
    "Gen_mol = Generator(restore_path=restore_path, voc_path=voc_path, \n",
    "                    csv_num=csv_num, gen_num=gen_num, mol_num=mol_num)"
   ]
  }
 ],
 "metadata": {
  "kernelspec": {
   "display_name": "Python 3",
   "language": "python",
   "name": "python3"
  },
  "language_info": {
   "codemirror_mode": {
    "name": "ipython",
    "version": 3
   },
   "file_extension": ".py",
   "mimetype": "text/x-python",
   "name": "python",
   "nbconvert_exporter": "python",
   "pygments_lexer": "ipython3",
   "version": "3.6.6"
  }
 },
 "nbformat": 4,
 "nbformat_minor": 2
}
